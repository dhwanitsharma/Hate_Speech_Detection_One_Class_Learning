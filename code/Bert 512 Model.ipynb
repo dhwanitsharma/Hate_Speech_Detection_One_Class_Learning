{
 "cells": [
  {
   "cell_type": "code",
   "execution_count": 1,
   "id": "QiJwrP-u_SXr",
   "metadata": {
    "id": "QiJwrP-u_SXr"
   },
   "outputs": [],
   "source": [
    "import pandas as pd\n",
    "import numpy as np"
   ]
  },
  {
   "cell_type": "code",
   "execution_count": 2,
   "id": "6E1bp0w2_SXu",
   "metadata": {
    "id": "6E1bp0w2_SXu"
   },
   "outputs": [],
   "source": [
    "train_df = pd.read_pickle('train_df.pickle')"
   ]
  },
  {
   "cell_type": "code",
   "execution_count": 3,
   "id": "SFBqIiDY_SXv",
   "metadata": {
    "id": "SFBqIiDY_SXv",
    "outputId": "344f6ce4-6d36-44dc-df9f-68161b714229"
   },
   "outputs": [
    {
     "name": "stdout",
     "output_type": "stream",
     "text": [
      "Using 1835/12231 as positives and unlabeling the rest\n"
     ]
    }
   ],
   "source": [
    "train_df_t = (train_df[[\"text\", \"label\"]])\n",
    "mod_data = train_df_t.copy()\n",
    "#get the indices of the positives samples\n",
    "pos_ind = np.where(mod_data.iloc[:,-1].values == 1)[0]\n",
    "#shuffle them\n",
    "np.random.shuffle(pos_ind)\n",
    "# leave just 25% of the positives marked\n",
    "pos_sample_len = int(np.ceil(0.15 * len(pos_ind)))\n",
    "print(f'Using {pos_sample_len}/{len(pos_ind)} as positives and unlabeling the rest')\n",
    "pos_sample = pos_ind[:pos_sample_len]"
   ]
  },
  {
   "cell_type": "code",
   "execution_count": 4,
   "id": "h9gaU_qY_SXw",
   "metadata": {
    "id": "h9gaU_qY_SXw",
    "outputId": "fea658d1-6511-4725-d825-8725ee06bc97"
   },
   "outputs": [
    {
     "name": "stdout",
     "output_type": "stream",
     "text": [
      "target variable:\n",
      " 0    33730\n",
      "1     1835\n",
      "Name: class_test, dtype: int64\n"
     ]
    }
   ],
   "source": [
    "mod_data['class_test'] = 0\n",
    "mod_data.iloc[pos_sample,-1] = 1\n",
    "print('target variable:\\n', mod_data.iloc[:,-1].value_counts())"
   ]
  },
  {
   "cell_type": "code",
   "execution_count": 5,
   "id": "hi_-rTvi_SXx",
   "metadata": {
    "id": "hi_-rTvi_SXx",
    "outputId": "f72ccd1e-2132-4f03-9b76-57f78a0f1b10"
   },
   "outputs": [
    {
     "data": {
      "text/html": [
       "<div>\n",
       "<style scoped>\n",
       "    .dataframe tbody tr th:only-of-type {\n",
       "        vertical-align: middle;\n",
       "    }\n",
       "\n",
       "    .dataframe tbody tr th {\n",
       "        vertical-align: top;\n",
       "    }\n",
       "\n",
       "    .dataframe thead th {\n",
       "        text-align: right;\n",
       "    }\n",
       "</style>\n",
       "<table border=\"1\" class=\"dataframe\">\n",
       "  <thead>\n",
       "    <tr style=\"text-align: right;\">\n",
       "      <th></th>\n",
       "      <th>text</th>\n",
       "      <th>label</th>\n",
       "      <th>class_test</th>\n",
       "    </tr>\n",
       "  </thead>\n",
       "  <tbody>\n",
       "    <tr>\n",
       "      <th>29196</th>\n",
       "      <td>he should have fucked her in the ass</td>\n",
       "      <td>1</td>\n",
       "      <td>0</td>\n",
       "    </tr>\n",
       "    <tr>\n",
       "      <th>64149</th>\n",
       "      <td>bitches jus b so mad at the wrong ppl i dont g...</td>\n",
       "      <td>1</td>\n",
       "      <td>0</td>\n",
       "    </tr>\n",
       "    <tr>\n",
       "      <th>1107</th>\n",
       "      <td>Nor I you youre putrid Youre another white kno...</td>\n",
       "      <td>1</td>\n",
       "      <td>0</td>\n",
       "    </tr>\n",
       "    <tr>\n",
       "      <th>23403</th>\n",
       "      <td>Go back to your country bitch</td>\n",
       "      <td>1</td>\n",
       "      <td>0</td>\n",
       "    </tr>\n",
       "    <tr>\n",
       "      <th>9262</th>\n",
       "      <td>@JohnCornyn @Debbie22210 The only humane thing...</td>\n",
       "      <td>1</td>\n",
       "      <td>1</td>\n",
       "    </tr>\n",
       "    <tr>\n",
       "      <th>...</th>\n",
       "      <td>...</td>\n",
       "      <td>...</td>\n",
       "      <td>...</td>\n",
       "    </tr>\n",
       "    <tr>\n",
       "      <th>61275</th>\n",
       "      <td>@purrfect1509 White people who hate white peop...</td>\n",
       "      <td>0</td>\n",
       "      <td>0</td>\n",
       "    </tr>\n",
       "    <tr>\n",
       "      <th>35406</th>\n",
       "      <td>I consented to the dick not the sperm</td>\n",
       "      <td>0</td>\n",
       "      <td>0</td>\n",
       "    </tr>\n",
       "    <tr>\n",
       "      <th>42863</th>\n",
       "      <td>STRAIGHT PEOPLE ARE CRAZY</td>\n",
       "      <td>0</td>\n",
       "      <td>0</td>\n",
       "    </tr>\n",
       "    <tr>\n",
       "      <th>39148</th>\n",
       "      <td>Antifa member firebombs ICE facility and is ar...</td>\n",
       "      <td>0</td>\n",
       "      <td>0</td>\n",
       "    </tr>\n",
       "    <tr>\n",
       "      <th>17488</th>\n",
       "      <td>Now there is another wackadoo called Shelle th...</td>\n",
       "      <td>0</td>\n",
       "      <td>0</td>\n",
       "    </tr>\n",
       "  </tbody>\n",
       "</table>\n",
       "<p>35565 rows × 3 columns</p>\n",
       "</div>"
      ],
      "text/plain": [
       "                                                    text  label  class_test\n",
       "29196               he should have fucked her in the ass      1           0\n",
       "64149  bitches jus b so mad at the wrong ppl i dont g...      1           0\n",
       "1107   Nor I you youre putrid Youre another white kno...      1           0\n",
       "23403                      Go back to your country bitch      1           0\n",
       "9262   @JohnCornyn @Debbie22210 The only humane thing...      1           1\n",
       "...                                                  ...    ...         ...\n",
       "61275  @purrfect1509 White people who hate white peop...      0           0\n",
       "35406              I consented to the dick not the sperm      0           0\n",
       "42863                          STRAIGHT PEOPLE ARE CRAZY      0           0\n",
       "39148  Antifa member firebombs ICE facility and is ar...      0           0\n",
       "17488  Now there is another wackadoo called Shelle th...      0           0\n",
       "\n",
       "[35565 rows x 3 columns]"
      ]
     },
     "execution_count": 5,
     "metadata": {},
     "output_type": "execute_result"
    }
   ],
   "source": [
    "mod_data"
   ]
  },
  {
   "cell_type": "code",
   "execution_count": 6,
   "id": "ezomXD7p_SXx",
   "metadata": {
    "id": "ezomXD7p_SXx"
   },
   "outputs": [],
   "source": [
    "x_data = mod_data['text'].values # just the X \n",
    "y_labeled = mod_data.iloc[:,-1].values # new class (just the P & U)\n",
    "y_positive = mod_data.iloc[:,-2].values # original class"
   ]
  },
  {
   "cell_type": "code",
   "execution_count": 7,
   "id": "aQowVr1N_SXy",
   "metadata": {
    "id": "aQowVr1N_SXy",
    "outputId": "2b99ff45-66cd-4813-f905-404980045932"
   },
   "outputs": [
    {
     "data": {
      "text/plain": [
       "array(['he should have fucked her in the ass',\n",
       "       'bitches jus b so mad at the wrong ppl i dont get it ',\n",
       "       'Nor I you youre putrid Youre another white knob thinking youre virtuous while you shame people from different cultures Youre in luck Reddit loves that builds up the ol ego  if theres one thing Reddits taught me its the intolerance of the supposed tolerant Youre not new youre commonplace Dealt with racist shits like you since birth Im all gd',\n",
       "       ..., 'STRAIGHT PEOPLE ARE CRAZY',\n",
       "       'Antifa member firebombs ICE facility and is armed with an AR15 Wrote a manifesto using Cowfarts Cortez idea that detention facilities are CONCENTRATION CAMPS Where is the Left on condemning him CUE CRICKETS',\n",
       "       'Now there is another wackadoo called Shelle that she has shifted her allegiance to While not nice at least you can through some churchy sounding words point your mother to repentance for putting some whackadoodle over the actual leadership of the church'],\n",
       "      dtype=object)"
      ]
     },
     "execution_count": 7,
     "metadata": {},
     "output_type": "execute_result"
    }
   ],
   "source": [
    "x_data"
   ]
  },
  {
   "cell_type": "code",
   "execution_count": 8,
   "id": "NrA0HmZg_SXy",
   "metadata": {
    "id": "NrA0HmZg_SXy"
   },
   "outputs": [],
   "source": [
    "import tensorflow as tf\n",
    "import tensorflow_hub as hub\n",
    "import tensorflow_text as text\n",
    "from sklearn.model_selection import train_test_split\n",
    "from tensorflow.keras.callbacks import EarlyStopping\n",
    "from sklearn.metrics import classification_report\n",
    "from tensorflow.keras.optimizers import Adam\n",
    "import pandas as pd"
   ]
  },
  {
   "cell_type": "code",
   "execution_count": 9,
   "id": "mIp2IgFJ_SXz",
   "metadata": {
    "id": "mIp2IgFJ_SXz"
   },
   "outputs": [],
   "source": [
    "tfhub_handle_encoder = 'https://tfhub.dev/tensorflow/small_bert/bert_en_uncased_L-4_H-512_A-8/1'\n",
    "tfhub_handle_preprocess = 'https://tfhub.dev/tensorflow/bert_en_uncased_preprocess/3'"
   ]
  },
  {
   "cell_type": "code",
   "execution_count": 10,
   "id": "LCdC39Hm_SX0",
   "metadata": {
    "id": "LCdC39Hm_SX0"
   },
   "outputs": [],
   "source": [
    "# bert_model = hub.KerasLayer(tfhub_handle_encoder)"
   ]
  },
  {
   "cell_type": "code",
   "execution_count": 11,
   "id": "dySwCh5j_SX0",
   "metadata": {
    "id": "dySwCh5j_SX0"
   },
   "outputs": [],
   "source": [
    "# bert_preprocess_model = hub.KerasLayer(tfhub_handle_preprocess)"
   ]
  },
  {
   "cell_type": "code",
   "execution_count": 12,
   "id": "y7WbWAhE_SX0",
   "metadata": {
    "id": "y7WbWAhE_SX0"
   },
   "outputs": [],
   "source": [
    "text_input = tf.keras.layers.Input(shape=(), dtype=tf.string, name='text')\n",
    "preprocessing_layer = hub.KerasLayer(tfhub_handle_preprocess, name='preprocessing')\n",
    "encoder_inputs = preprocessing_layer(text_input)\n",
    "encoder = hub.KerasLayer(tfhub_handle_encoder, trainable=True, name='BERT_encoder')\n",
    "outputs = encoder(encoder_inputs)\n",
    "net = outputs['pooled_output']\n",
    "net = tf.keras.layers.Dropout(0.2)(net)\n",
    "net = tf.keras.layers.Dense(1, activation='sigmoid', name='classifier')(net)\n",
    "\n",
    "model = tf.keras.Model(text_input, net)"
   ]
  },
  {
   "cell_type": "code",
   "execution_count": 13,
   "id": "ipei6FEk_SX1",
   "metadata": {
    "id": "ipei6FEk_SX1"
   },
   "outputs": [],
   "source": [
    "opt = Adam(learning_rate = 3e-5)\n",
    "model.compile(loss='binary_crossentropy', optimizer=opt, metrics=['accuracy'])"
   ]
  },
  {
   "cell_type": "code",
   "execution_count": 14,
   "id": "N5x1GZav_SX1",
   "metadata": {
    "id": "N5x1GZav_SX1",
    "outputId": "55c4e8ec-a7e4-4752-9257-441f159feedb"
   },
   "outputs": [
    {
     "name": "stdout",
     "output_type": "stream",
     "text": [
      "[    4    13    23 ... 12192 12203 12211]\n"
     ]
    }
   ],
   "source": [
    "# find the indices of the positive/labeled elements\n",
    "\n",
    "positives = np.where(y_labeled == 1.)[0] \n",
    "print(positives)"
   ]
  },
  {
   "cell_type": "code",
   "execution_count": 15,
   "id": "UGf3sSau_SX2",
   "metadata": {
    "id": "UGf3sSau_SX2",
    "outputId": "65d9bebb-75f4-4cd4-87d7-75aed2c30710"
   },
   "outputs": [
    {
     "data": {
      "text/plain": [
       "array(['@yakerriah @NomNomNyandu Fuck you you disgusting dung eating African We fucking wash Talk like this to my face you backwards cunt Fuck you Get the fuck out of Europe',\n",
       "       'man fuck i hope that bitch die fuckkkk',\n",
       "       'HEY COULD BE WHY TRUMP WON THEY SAW HILLARY STEAL THE ELECTION THEN ABOLISH THE CONSTITUTION THEN BRING SO MANY ARABS THAT THEY OUT NUMBERED WHITES AND THEN ALL POLITICIANS BECAME ARABS WHO THEN MADE IT ILLEGAL FOR ALL RELIGIONS AND PASSED SHARIA LAW THEN IRAN STARTED SHOOTING NUKES AND EVERY ELSE STARTED TO DO THE SAME THE WORLD WAS DESTROYED AND GOD SAID THATS IT IM NEVER MAKING WOMEN AND ARABS EVER AGAIN',\n",
       "       'I am a white mans whore', 'Go cry in the shower pussy'],\n",
       "      dtype=object)"
      ]
     },
     "execution_count": 15,
     "metadata": {},
     "output_type": "execute_result"
    }
   ],
   "source": [
    "# hold_out_size = the *number* of positives/labeled samples \n",
    "# that we will use later to estimate P(s=1|y=1)\n",
    "hold_out_ratio = 0.25\n",
    "hold_out_size = int(np.ceil(len(positives) * hold_out_ratio))\n",
    "np.random.shuffle(positives)\n",
    "\n",
    "hold_out = positives[:hold_out_size] \n",
    "X_hold_out = x_data[hold_out]\n",
    "X_hold_out[:5]"
   ]
  },
  {
   "cell_type": "code",
   "execution_count": 16,
   "id": "k1uumK-n_SX2",
   "metadata": {
    "id": "k1uumK-n_SX2"
   },
   "outputs": [],
   "source": [
    "# the actual positive *elements* that we will keep aside\n",
    " \n",
    "# remove the held out elements from X and y\n",
    "X = np.delete(x_data, hold_out,0) \n",
    "y = np.delete(y_labeled, hold_out)"
   ]
  },
  {
   "cell_type": "code",
   "execution_count": 17,
   "id": "_SqlerSK_SX2",
   "metadata": {
    "id": "_SqlerSK_SX2",
    "outputId": "1de1513f-ce22-4c2c-c5f7-0f840254469d"
   },
   "outputs": [
    {
     "data": {
      "text/plain": [
       "array([0, 0, 0, 0, 1], dtype=int64)"
      ]
     },
     "execution_count": 17,
     "metadata": {},
     "output_type": "execute_result"
    }
   ],
   "source": [
    "y[:5]"
   ]
  },
  {
   "cell_type": "code",
   "execution_count": 18,
   "id": "wEhhw4Rw_SX3",
   "metadata": {
    "id": "wEhhw4Rw_SX3"
   },
   "outputs": [
    {
     "name": "stdout",
     "output_type": "stream",
     "text": [
      "['Literally Jesus because he fixed America Orange man is literally satan because Mexicans'\n",
      " 'Your wife was without words when she saw her Christmas present Immediately after dinner she was in the bedroom with him and you unwrapped the rest of the presents alone to the sound of them fucking Merry Christmas cucky  hotwife cuckold cuck cuckquean URL'\n",
      " 'Deport them all build that wall and arrest these criminal mayors'\n",
      " 'Dude seriously people like her are the most banal bored and terrified on the inside Nothing arouses this girls genuine passion she has no interests in anything beyond what her body tells her to crave and seek out You arent missing out on anything by not being with her Practice skills you love master them and wait for girls who interest you to show interest in you Seriously There are few creatures more dangerous to be involved with emotionally than a young bored girl raised in affluence Everything is a toy to them'\n",
      " 'Thats an old Jewish joke']\n",
      "Epoch 1/2\n"
     ]
    },
    {
     "name": "stderr",
     "output_type": "stream",
     "text": [
      "C:\\Users\\Dhwanit\\anaconda3\\envs\\py3.7\\lib\\site-packages\\ipykernel_launcher.py:4: DeprecationWarning: `np.float` is a deprecated alias for the builtin `float`. To silence this warning, use `float` by itself. Doing this will not modify any behavior and is safe. If you specifically wanted the numpy scalar type, use `np.float64` here.\n",
      "Deprecated in NumPy 1.20; for more details and guidance: https://numpy.org/devdocs/release/1.20.0-notes.html#deprecations\n",
      "  after removing the cwd from sys.path.\n",
      "C:\\Users\\Dhwanit\\anaconda3\\envs\\py3.7\\lib\\site-packages\\ipykernel_launcher.py:5: DeprecationWarning: `np.float` is a deprecated alias for the builtin `float`. To silence this warning, use `float` by itself. Doing this will not modify any behavior and is safe. If you specifically wanted the numpy scalar type, use `np.float64` here.\n",
      "Deprecated in NumPy 1.20; for more details and guidance: https://numpy.org/devdocs/release/1.20.0-notes.html#deprecations\n",
      "  \"\"\"\n"
     ]
    },
    {
     "name": "stdout",
     "output_type": "stream",
     "text": [
      "439/439 [==============================] - 332s 743ms/step - loss: 0.1683 - accuracy: 0.9582 - val_loss: 0.1562 - val_accuracy: 0.9608\n",
      "Epoch 2/2\n",
      "439/439 [==============================] - 365s 832ms/step - loss: 0.1537 - accuracy: 0.9608 - val_loss: 0.1710 - val_accuracy: 0.9608\n"
     ]
    },
    {
     "data": {
      "text/plain": [
       "<keras.callbacks.History at 0x1bf8e849308>"
      ]
     },
     "execution_count": 18,
     "metadata": {},
     "output_type": "execute_result"
    }
   ],
   "source": [
    "X_train,X_val, y_train,y_val = train_test_split(X,y,test_size= 0.2, stratify=y)\n",
    "early_stopping = EarlyStopping(monitor = 'val_loss', patience = 4,restore_best_weights =True)\n",
    "print(np.asarray(X_train)[:5])\n",
    "model.fit(np.asarray(list(X_train)).astype('str'),np.array(list(y_train),dtype = np.float),\n",
    "          validation_data =( np.array(list(X_val)),np.asarray(list(y_val), dtype = np.float) ) ,epochs = 2, batch_size =  64,callbacks = [early_stopping])\n",
    "#         # We then use the estimator for prediction of the positive held-out set \n",
    "# in order to estimate P(s=1|y=1)"
   ]
  },
  {
   "cell_type": "code",
   "execution_count": 19,
   "id": "BsLqlVY0_SX3",
   "metadata": {
    "id": "BsLqlVY0_SX3",
    "outputId": "15a3a5be-7400-49a0-e566-77ca678f51e8"
   },
   "outputs": [
    {
     "data": {
      "text/plain": [
       "array([[0.09380719],\n",
       "       [0.03868423],\n",
       "       [0.0047223 ],\n",
       "       [0.04936634],\n",
       "       [0.02869702],\n",
       "       [0.01276925],\n",
       "       [0.0064201 ],\n",
       "       [0.04544552],\n",
       "       [0.01888394],\n",
       "       [0.01439741],\n",
       "       [0.07326064],\n",
       "       [0.0016897 ],\n",
       "       [0.02804804],\n",
       "       [0.02193064],\n",
       "       [0.06646208],\n",
       "       [0.11490488],\n",
       "       [0.015052  ],\n",
       "       [0.01833756],\n",
       "       [0.0168722 ],\n",
       "       [0.02190655],\n",
       "       [0.05363124],\n",
       "       [0.03113243],\n",
       "       [0.05829479],\n",
       "       [0.01259108],\n",
       "       [0.00421412],\n",
       "       [0.04860178],\n",
       "       [0.01026533],\n",
       "       [0.00865922],\n",
       "       [0.03786043],\n",
       "       [0.00679498],\n",
       "       [0.0063367 ],\n",
       "       [0.01343787],\n",
       "       [0.01357171],\n",
       "       [0.00448719],\n",
       "       [0.01561173],\n",
       "       [0.05521906],\n",
       "       [0.07030445],\n",
       "       [0.09561294],\n",
       "       [0.00393698],\n",
       "       [0.02618407],\n",
       "       [0.04725653],\n",
       "       [0.02246998],\n",
       "       [0.00794178],\n",
       "       [0.09586257],\n",
       "       [0.0030736 ],\n",
       "       [0.01155592],\n",
       "       [0.018403  ],\n",
       "       [0.0426509 ],\n",
       "       [0.00333354],\n",
       "       [0.0260812 ],\n",
       "       [0.02133277],\n",
       "       [0.08130188],\n",
       "       [0.01840581],\n",
       "       [0.00305284],\n",
       "       [0.01516914],\n",
       "       [0.00310652],\n",
       "       [0.0296369 ],\n",
       "       [0.00585491],\n",
       "       [0.03160029],\n",
       "       [0.01822237],\n",
       "       [0.00214913],\n",
       "       [0.01901323],\n",
       "       [0.0490123 ],\n",
       "       [0.04425222],\n",
       "       [0.00488514],\n",
       "       [0.01806007],\n",
       "       [0.00647744],\n",
       "       [0.06737519],\n",
       "       [0.03209839],\n",
       "       [0.00298293],\n",
       "       [0.01244754],\n",
       "       [0.08438195],\n",
       "       [0.01357542],\n",
       "       [0.01032719],\n",
       "       [0.01034716],\n",
       "       [0.04757636],\n",
       "       [0.02598593],\n",
       "       [0.00297701],\n",
       "       [0.00427971],\n",
       "       [0.04690735],\n",
       "       [0.05083058],\n",
       "       [0.03567538],\n",
       "       [0.01657818],\n",
       "       [0.00780308],\n",
       "       [0.01672884],\n",
       "       [0.0219638 ],\n",
       "       [0.00816883],\n",
       "       [0.00786406],\n",
       "       [0.00691131],\n",
       "       [0.02076635],\n",
       "       [0.00422185],\n",
       "       [0.00914384],\n",
       "       [0.01688247],\n",
       "       [0.00607629],\n",
       "       [0.01634335],\n",
       "       [0.01396819],\n",
       "       [0.00233441],\n",
       "       [0.00452238],\n",
       "       [0.02084456],\n",
       "       [0.02165516],\n",
       "       [0.02165302],\n",
       "       [0.00152295],\n",
       "       [0.05985668],\n",
       "       [0.01332599],\n",
       "       [0.01066029],\n",
       "       [0.0625727 ],\n",
       "       [0.00602494],\n",
       "       [0.00437684],\n",
       "       [0.05878375],\n",
       "       [0.05798575],\n",
       "       [0.05357819],\n",
       "       [0.05685972],\n",
       "       [0.03148536],\n",
       "       [0.01602106],\n",
       "       [0.03043346],\n",
       "       [0.02027689],\n",
       "       [0.0547947 ],\n",
       "       [0.03473889],\n",
       "       [0.02701167],\n",
       "       [0.00605695],\n",
       "       [0.00976067],\n",
       "       [0.04867074],\n",
       "       [0.06548572],\n",
       "       [0.01883245],\n",
       "       [0.01757334],\n",
       "       [0.06671649],\n",
       "       [0.08994266],\n",
       "       [0.05348656],\n",
       "       [0.01737663],\n",
       "       [0.02883298],\n",
       "       [0.0096162 ],\n",
       "       [0.01430437],\n",
       "       [0.05875128],\n",
       "       [0.07373437],\n",
       "       [0.01037382],\n",
       "       [0.04599195],\n",
       "       [0.02135437],\n",
       "       [0.01770381],\n",
       "       [0.01438513],\n",
       "       [0.02579334],\n",
       "       [0.01277348],\n",
       "       [0.06501771],\n",
       "       [0.00578931],\n",
       "       [0.01069095],\n",
       "       [0.01206834],\n",
       "       [0.00371959],\n",
       "       [0.00969731],\n",
       "       [0.00453787],\n",
       "       [0.00225785],\n",
       "       [0.00253117],\n",
       "       [0.06228768],\n",
       "       [0.01219806],\n",
       "       [0.0512863 ],\n",
       "       [0.02608744],\n",
       "       [0.03072835],\n",
       "       [0.01479751],\n",
       "       [0.01829263],\n",
       "       [0.05734264],\n",
       "       [0.04576158],\n",
       "       [0.0571469 ],\n",
       "       [0.03672896],\n",
       "       [0.02788933],\n",
       "       [0.04132813],\n",
       "       [0.11148858],\n",
       "       [0.01052111],\n",
       "       [0.03237585],\n",
       "       [0.01445067],\n",
       "       [0.0852045 ],\n",
       "       [0.00842695],\n",
       "       [0.02086841],\n",
       "       [0.0087896 ],\n",
       "       [0.00163648],\n",
       "       [0.0273084 ],\n",
       "       [0.00711734],\n",
       "       [0.02106789],\n",
       "       [0.01392381],\n",
       "       [0.01413457],\n",
       "       [0.04970349],\n",
       "       [0.01208582],\n",
       "       [0.00816729],\n",
       "       [0.02206731],\n",
       "       [0.04250913],\n",
       "       [0.02383957],\n",
       "       [0.0049999 ],\n",
       "       [0.06171063],\n",
       "       [0.07034729],\n",
       "       [0.00427764],\n",
       "       [0.06836963],\n",
       "       [0.01823896],\n",
       "       [0.01320088],\n",
       "       [0.01080101],\n",
       "       [0.03658974],\n",
       "       [0.06083419],\n",
       "       [0.0308085 ],\n",
       "       [0.04579267],\n",
       "       [0.00589882],\n",
       "       [0.07562475],\n",
       "       [0.12756856],\n",
       "       [0.03022446],\n",
       "       [0.03762711],\n",
       "       [0.02295677],\n",
       "       [0.0065114 ],\n",
       "       [0.09893692],\n",
       "       [0.05063412],\n",
       "       [0.01103943],\n",
       "       [0.04097206],\n",
       "       [0.04698342],\n",
       "       [0.00639127],\n",
       "       [0.01935759],\n",
       "       [0.00799538],\n",
       "       [0.03251115],\n",
       "       [0.01645937],\n",
       "       [0.07636006],\n",
       "       [0.00387606],\n",
       "       [0.07985309],\n",
       "       [0.08167019],\n",
       "       [0.01600423],\n",
       "       [0.00482975],\n",
       "       [0.07382304],\n",
       "       [0.00601957],\n",
       "       [0.08308488],\n",
       "       [0.06444526],\n",
       "       [0.05465452],\n",
       "       [0.00507618],\n",
       "       [0.05782485],\n",
       "       [0.0153119 ],\n",
       "       [0.0473695 ],\n",
       "       [0.00687657],\n",
       "       [0.06927265],\n",
       "       [0.01574589],\n",
       "       [0.04315732],\n",
       "       [0.02826362],\n",
       "       [0.00219397],\n",
       "       [0.03627459],\n",
       "       [0.08441234],\n",
       "       [0.0235942 ],\n",
       "       [0.00249162],\n",
       "       [0.02733947],\n",
       "       [0.00300442],\n",
       "       [0.00312935],\n",
       "       [0.0371413 ],\n",
       "       [0.02425287],\n",
       "       [0.04728048],\n",
       "       [0.0143093 ],\n",
       "       [0.01520842],\n",
       "       [0.05969612],\n",
       "       [0.00630447],\n",
       "       [0.03639091],\n",
       "       [0.0048819 ],\n",
       "       [0.0068618 ],\n",
       "       [0.10342443],\n",
       "       [0.00709974],\n",
       "       [0.01161244],\n",
       "       [0.01345656],\n",
       "       [0.0050165 ],\n",
       "       [0.01006463],\n",
       "       [0.00710069],\n",
       "       [0.02127276],\n",
       "       [0.03388249],\n",
       "       [0.03252826],\n",
       "       [0.04541634],\n",
       "       [0.09347963],\n",
       "       [0.00572856],\n",
       "       [0.12671453],\n",
       "       [0.02227361],\n",
       "       [0.01504145],\n",
       "       [0.04696682],\n",
       "       [0.01388476],\n",
       "       [0.07314926],\n",
       "       [0.0229856 ],\n",
       "       [0.07885151],\n",
       "       [0.01503018],\n",
       "       [0.05550532],\n",
       "       [0.00379363],\n",
       "       [0.01554399],\n",
       "       [0.03150985],\n",
       "       [0.00740557],\n",
       "       [0.11069258],\n",
       "       [0.01521675],\n",
       "       [0.04149725],\n",
       "       [0.00497422],\n",
       "       [0.02704455],\n",
       "       [0.09982932],\n",
       "       [0.02320216],\n",
       "       [0.00781444],\n",
       "       [0.00479407],\n",
       "       [0.00869445],\n",
       "       [0.00508271],\n",
       "       [0.04218268],\n",
       "       [0.00321122],\n",
       "       [0.02646062],\n",
       "       [0.08319192],\n",
       "       [0.02540042],\n",
       "       [0.01317369],\n",
       "       [0.01494674],\n",
       "       [0.06807181],\n",
       "       [0.00192013],\n",
       "       [0.00929913],\n",
       "       [0.03586043],\n",
       "       [0.13925014],\n",
       "       [0.0438773 ],\n",
       "       [0.05567016],\n",
       "       [0.00505197],\n",
       "       [0.00991899],\n",
       "       [0.02380129],\n",
       "       [0.04780338],\n",
       "       [0.01194282],\n",
       "       [0.05270031],\n",
       "       [0.10092162],\n",
       "       [0.01773924],\n",
       "       [0.05668241],\n",
       "       [0.00315574],\n",
       "       [0.05494701],\n",
       "       [0.06256483],\n",
       "       [0.06348761],\n",
       "       [0.00898693],\n",
       "       [0.00583607],\n",
       "       [0.04135488],\n",
       "       [0.04564818],\n",
       "       [0.06551074],\n",
       "       [0.00942923],\n",
       "       [0.07047217],\n",
       "       [0.04826617],\n",
       "       [0.00406174],\n",
       "       [0.00288896],\n",
       "       [0.04973645],\n",
       "       [0.05074371],\n",
       "       [0.01670544],\n",
       "       [0.01360009],\n",
       "       [0.01579249],\n",
       "       [0.00966618],\n",
       "       [0.04560055],\n",
       "       [0.06150123],\n",
       "       [0.00488373],\n",
       "       [0.02179536],\n",
       "       [0.02421517],\n",
       "       [0.04318516],\n",
       "       [0.00947488],\n",
       "       [0.01140428],\n",
       "       [0.01155099],\n",
       "       [0.06437077],\n",
       "       [0.01492771],\n",
       "       [0.02243125],\n",
       "       [0.06300111],\n",
       "       [0.01150742],\n",
       "       [0.04143541],\n",
       "       [0.00757056],\n",
       "       [0.02351187],\n",
       "       [0.02147869],\n",
       "       [0.06385832],\n",
       "       [0.02615598],\n",
       "       [0.03196469],\n",
       "       [0.02111518],\n",
       "       [0.02338433],\n",
       "       [0.02090729],\n",
       "       [0.00618439],\n",
       "       [0.00798265],\n",
       "       [0.00211263],\n",
       "       [0.03687799],\n",
       "       [0.03411125],\n",
       "       [0.01103594],\n",
       "       [0.00663793],\n",
       "       [0.02540754],\n",
       "       [0.01686184],\n",
       "       [0.02593004],\n",
       "       [0.11487535],\n",
       "       [0.00526286],\n",
       "       [0.06790867],\n",
       "       [0.0242911 ],\n",
       "       [0.04697566],\n",
       "       [0.02747062],\n",
       "       [0.00622932],\n",
       "       [0.00413957],\n",
       "       [0.07337725],\n",
       "       [0.07189251],\n",
       "       [0.00371589],\n",
       "       [0.03550908],\n",
       "       [0.01326153],\n",
       "       [0.01665283],\n",
       "       [0.02744521],\n",
       "       [0.08058538],\n",
       "       [0.05146216],\n",
       "       [0.01456111],\n",
       "       [0.04173056],\n",
       "       [0.04227203],\n",
       "       [0.00915208],\n",
       "       [0.05025657],\n",
       "       [0.04268921],\n",
       "       [0.01765771],\n",
       "       [0.06580002],\n",
       "       [0.00281399],\n",
       "       [0.0159371 ],\n",
       "       [0.01510221],\n",
       "       [0.01854551],\n",
       "       [0.0128026 ],\n",
       "       [0.01917754],\n",
       "       [0.01575729],\n",
       "       [0.01869412],\n",
       "       [0.07558194],\n",
       "       [0.01265857],\n",
       "       [0.05901459],\n",
       "       [0.01426613],\n",
       "       [0.06787819],\n",
       "       [0.01784077],\n",
       "       [0.00344968],\n",
       "       [0.02638793],\n",
       "       [0.01096262],\n",
       "       [0.01624011],\n",
       "       [0.00440054],\n",
       "       [0.00619483],\n",
       "       [0.07433467],\n",
       "       [0.03251442],\n",
       "       [0.01111875],\n",
       "       [0.03419816],\n",
       "       [0.00868299],\n",
       "       [0.04502072],\n",
       "       [0.02437213],\n",
       "       [0.00220771],\n",
       "       [0.01259177],\n",
       "       [0.05297219],\n",
       "       [0.0279311 ],\n",
       "       [0.0120962 ],\n",
       "       [0.05937587],\n",
       "       [0.01075862],\n",
       "       [0.01433094],\n",
       "       [0.00450453],\n",
       "       [0.09628697],\n",
       "       [0.01019997],\n",
       "       [0.00272863],\n",
       "       [0.07810367],\n",
       "       [0.00761255],\n",
       "       [0.00913615],\n",
       "       [0.02239339],\n",
       "       [0.08519939],\n",
       "       [0.03663503],\n",
       "       [0.06887494],\n",
       "       [0.01229474],\n",
       "       [0.03029323],\n",
       "       [0.04088936],\n",
       "       [0.0070389 ],\n",
       "       [0.00813986],\n",
       "       [0.00285332],\n",
       "       [0.05346128],\n",
       "       [0.01059044],\n",
       "       [0.03244043],\n",
       "       [0.03209136],\n",
       "       [0.02313491],\n",
       "       [0.01541383],\n",
       "       [0.00529471],\n",
       "       [0.0033449 ],\n",
       "       [0.05307485],\n",
       "       [0.02918031],\n",
       "       [0.062372  ],\n",
       "       [0.05185907],\n",
       "       [0.00919164],\n",
       "       [0.01945399],\n",
       "       [0.00278381],\n",
       "       [0.06611346],\n",
       "       [0.06727838]], dtype=float32)"
      ]
     },
     "execution_count": 19,
     "metadata": {},
     "output_type": "execute_result"
    }
   ],
   "source": [
    "hold_out_predictions = model.predict(list(X_hold_out))\n",
    "hold_out_predictions"
   ]
  },
  {
   "cell_type": "code",
   "execution_count": 20,
   "id": "LN_sfcPd_SX3",
   "metadata": {
    "id": "LN_sfcPd_SX3"
   },
   "outputs": [],
   "source": [
    "#take the probability that it is 1\n",
    "hold_out_predictions = hold_out_predictions[:,0]\n",
    "# save the mean probability \n",
    "c = np.mean(hold_out_predictions)\n",
    "\n",
    "\n",
    "def predict_PU_prob(X, estimator, prob_s1y1):\n",
    "    predicted_s = estimator.predict_proba(X)\n",
    "    predicted_s = predicted_s[:,1]\n",
    "    return predicted_s / prob_s1y1"
   ]
  },
  {
   "cell_type": "code",
   "execution_count": 21,
   "id": "4x-l0Gk1_SX4",
   "metadata": {
    "id": "4x-l0Gk1_SX4",
    "outputId": "92844a8b-951c-450c-d8f9-24751ba38147"
   },
   "outputs": [
    {
     "data": {
      "text/plain": [
       "0.030370273"
      ]
     },
     "execution_count": 21,
     "metadata": {},
     "output_type": "execute_result"
    }
   ],
   "source": [
    "c"
   ]
  },
  {
   "cell_type": "code",
   "execution_count": 22,
   "id": "qjwqI3sY_SX4",
   "metadata": {
    "id": "qjwqI3sY_SX4",
    "outputId": "4bd8a27f-08fb-4112-814f-7f5fdaef0c49"
   },
   "outputs": [
    {
     "data": {
      "text/html": [
       "<div>\n",
       "<style scoped>\n",
       "    .dataframe tbody tr th:only-of-type {\n",
       "        vertical-align: middle;\n",
       "    }\n",
       "\n",
       "    .dataframe tbody tr th {\n",
       "        vertical-align: top;\n",
       "    }\n",
       "\n",
       "    .dataframe thead th {\n",
       "        text-align: right;\n",
       "    }\n",
       "</style>\n",
       "<table border=\"1\" class=\"dataframe\">\n",
       "  <thead>\n",
       "    <tr style=\"text-align: right;\">\n",
       "      <th></th>\n",
       "      <th>text</th>\n",
       "      <th>label</th>\n",
       "      <th>class_test</th>\n",
       "    </tr>\n",
       "  </thead>\n",
       "  <tbody>\n",
       "    <tr>\n",
       "      <th>29196</th>\n",
       "      <td>he should have fucked her in the ass</td>\n",
       "      <td>1</td>\n",
       "      <td>0</td>\n",
       "    </tr>\n",
       "    <tr>\n",
       "      <th>64149</th>\n",
       "      <td>bitches jus b so mad at the wrong ppl i dont g...</td>\n",
       "      <td>1</td>\n",
       "      <td>0</td>\n",
       "    </tr>\n",
       "    <tr>\n",
       "      <th>1107</th>\n",
       "      <td>Nor I you youre putrid Youre another white kno...</td>\n",
       "      <td>1</td>\n",
       "      <td>0</td>\n",
       "    </tr>\n",
       "    <tr>\n",
       "      <th>23403</th>\n",
       "      <td>Go back to your country bitch</td>\n",
       "      <td>1</td>\n",
       "      <td>0</td>\n",
       "    </tr>\n",
       "    <tr>\n",
       "      <th>9262</th>\n",
       "      <td>@JohnCornyn @Debbie22210 The only humane thing...</td>\n",
       "      <td>1</td>\n",
       "      <td>1</td>\n",
       "    </tr>\n",
       "    <tr>\n",
       "      <th>...</th>\n",
       "      <td>...</td>\n",
       "      <td>...</td>\n",
       "      <td>...</td>\n",
       "    </tr>\n",
       "    <tr>\n",
       "      <th>61275</th>\n",
       "      <td>@purrfect1509 White people who hate white peop...</td>\n",
       "      <td>0</td>\n",
       "      <td>0</td>\n",
       "    </tr>\n",
       "    <tr>\n",
       "      <th>35406</th>\n",
       "      <td>I consented to the dick not the sperm</td>\n",
       "      <td>0</td>\n",
       "      <td>0</td>\n",
       "    </tr>\n",
       "    <tr>\n",
       "      <th>42863</th>\n",
       "      <td>STRAIGHT PEOPLE ARE CRAZY</td>\n",
       "      <td>0</td>\n",
       "      <td>0</td>\n",
       "    </tr>\n",
       "    <tr>\n",
       "      <th>39148</th>\n",
       "      <td>Antifa member firebombs ICE facility and is ar...</td>\n",
       "      <td>0</td>\n",
       "      <td>0</td>\n",
       "    </tr>\n",
       "    <tr>\n",
       "      <th>17488</th>\n",
       "      <td>Now there is another wackadoo called Shelle th...</td>\n",
       "      <td>0</td>\n",
       "      <td>0</td>\n",
       "    </tr>\n",
       "  </tbody>\n",
       "</table>\n",
       "<p>35565 rows × 3 columns</p>\n",
       "</div>"
      ],
      "text/plain": [
       "                                                    text  label  class_test\n",
       "29196               he should have fucked her in the ass      1           0\n",
       "64149  bitches jus b so mad at the wrong ppl i dont g...      1           0\n",
       "1107   Nor I you youre putrid Youre another white kno...      1           0\n",
       "23403                      Go back to your country bitch      1           0\n",
       "9262   @JohnCornyn @Debbie22210 The only humane thing...      1           1\n",
       "...                                                  ...    ...         ...\n",
       "61275  @purrfect1509 White people who hate white peop...      0           0\n",
       "35406              I consented to the dick not the sperm      0           0\n",
       "42863                          STRAIGHT PEOPLE ARE CRAZY      0           0\n",
       "39148  Antifa member firebombs ICE facility and is ar...      0           0\n",
       "17488  Now there is another wackadoo called Shelle th...      0           0\n",
       "\n",
       "[35565 rows x 3 columns]"
      ]
     },
     "execution_count": 22,
     "metadata": {},
     "output_type": "execute_result"
    }
   ],
   "source": [
    "mod_data"
   ]
  },
  {
   "cell_type": "code",
   "execution_count": 23,
   "id": "nFH4R7aZ_SX4",
   "metadata": {
    "id": "nFH4R7aZ_SX4"
   },
   "outputs": [],
   "source": [
    "test_ds = pd.read_pickle('test_df.pickle')"
   ]
  },
  {
   "cell_type": "code",
   "execution_count": 24,
   "id": "sG6SZBq6_SX5",
   "metadata": {
    "id": "sG6SZBq6_SX5",
    "outputId": "eccb413c-f252-4545-ee2d-f6ca405a7f40"
   },
   "outputs": [
    {
     "data": {
      "text/plain": [
       "array([[0.00313791],\n",
       "       [0.02157165],\n",
       "       [0.05998213],\n",
       "       ...,\n",
       "       [0.00238691],\n",
       "       [0.04065668],\n",
       "       [0.00271142]], dtype=float32)"
      ]
     },
     "execution_count": 24,
     "metadata": {},
     "output_type": "execute_result"
    }
   ],
   "source": [
    "y_pred =  model.predict(list(test_ds['text'].values))\n",
    "y_pred"
   ]
  },
  {
   "cell_type": "code",
   "execution_count": 25,
   "id": "dmxPqjTD_SX5",
   "metadata": {
    "id": "dmxPqjTD_SX5"
   },
   "outputs": [],
   "source": [
    "y_pred = y_pred/c\n",
    "\n",
    "y_pred2 = [1 if i[0]>0.5 else 0 for i in y_pred]"
   ]
  },
  {
   "cell_type": "code",
   "execution_count": 26,
   "id": "Dbi4ukMY_SX5",
   "metadata": {
    "id": "Dbi4ukMY_SX5",
    "outputId": "218c59d6-55a7-4ccf-c486-98de907a3628",
    "scrolled": true
   },
   "outputs": [
    {
     "name": "stdout",
     "output_type": "stream",
     "text": [
      "              precision    recall  f1-score   support\n",
      "\n",
      "           0       0.68      0.81      0.74      2000\n",
      "           1       0.77      0.62      0.69      2000\n",
      "\n",
      "    accuracy                           0.72      4000\n",
      "   macro avg       0.73      0.72      0.72      4000\n",
      "weighted avg       0.73      0.72      0.72      4000\n",
      "\n"
     ]
    }
   ],
   "source": [
    "from sklearn.metrics import classification_report\n",
    "\n",
    "print(classification_report(test_ds['label'].values, y_pred2))"
   ]
  },
  {
   "cell_type": "code",
   "execution_count": 27,
   "id": "m2seynrQ_SX5",
   "metadata": {
    "id": "m2seynrQ_SX5",
    "outputId": "7db0fca7-05f9-46a4-8648-d46e1858c96a"
   },
   "outputs": [],
   "source": [
    "import os\n",
    " \n",
    "pid = os.getpid()\n",
    "#!kill -9 $pid"
   ]
  },
  {
   "cell_type": "code",
   "execution_count": null,
   "id": "lMRs3yzk_SX6",
   "metadata": {
    "id": "lMRs3yzk_SX6"
   },
   "outputs": [],
   "source": []
  }
 ],
 "metadata": {
  "colab": {
   "name": "BertModelTrain.ipynb",
   "provenance": []
  },
  "kernelspec": {
   "display_name": "Python 3 (ipykernel)",
   "language": "python",
   "name": "python3"
  },
  "language_info": {
   "codemirror_mode": {
    "name": "ipython",
    "version": 3
   },
   "file_extension": ".py",
   "mimetype": "text/x-python",
   "name": "python",
   "nbconvert_exporter": "python",
   "pygments_lexer": "ipython3",
   "version": "3.7.13"
  }
 },
 "nbformat": 4,
 "nbformat_minor": 5
}
