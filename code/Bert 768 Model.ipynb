{
 "cells": [
  {
   "cell_type": "code",
   "execution_count": 1,
   "id": "QiJwrP-u_SXr",
   "metadata": {
    "id": "QiJwrP-u_SXr"
   },
   "outputs": [],
   "source": [
    "import pandas as pd\n",
    "import numpy as np"
   ]
  },
  {
   "cell_type": "code",
   "execution_count": 2,
   "id": "6E1bp0w2_SXu",
   "metadata": {
    "id": "6E1bp0w2_SXu"
   },
   "outputs": [],
   "source": [
    "train_df = pd.read_pickle('train_df.pickle')"
   ]
  },
  {
   "cell_type": "code",
   "execution_count": 3,
   "id": "SFBqIiDY_SXv",
   "metadata": {
    "id": "SFBqIiDY_SXv",
    "outputId": "344f6ce4-6d36-44dc-df9f-68161b714229"
   },
   "outputs": [
    {
     "name": "stdout",
     "output_type": "stream",
     "text": [
      "Using 1835/12231 as positives and unlabeling the rest\n"
     ]
    }
   ],
   "source": [
    "train_df_t = (train_df[[\"text\", \"label\"]])\n",
    "mod_data = train_df_t.copy()\n",
    "#get the indices of the positives samples\n",
    "pos_ind = np.where(mod_data.iloc[:,-1].values == 1)[0]\n",
    "#shuffle them\n",
    "np.random.shuffle(pos_ind)\n",
    "# leave just 25% of the positives marked\n",
    "pos_sample_len = int(np.ceil(0.15 * len(pos_ind)))\n",
    "print(f'Using {pos_sample_len}/{len(pos_ind)} as positives and unlabeling the rest')\n",
    "pos_sample = pos_ind[:pos_sample_len]"
   ]
  },
  {
   "cell_type": "code",
   "execution_count": 4,
   "id": "h9gaU_qY_SXw",
   "metadata": {
    "id": "h9gaU_qY_SXw",
    "outputId": "fea658d1-6511-4725-d825-8725ee06bc97"
   },
   "outputs": [
    {
     "name": "stdout",
     "output_type": "stream",
     "text": [
      "target variable:\n",
      " 0    33730\n",
      "1     1835\n",
      "Name: class_test, dtype: int64\n"
     ]
    }
   ],
   "source": [
    "mod_data['class_test'] = 0\n",
    "mod_data.iloc[pos_sample,-1] = 1\n",
    "print('target variable:\\n', mod_data.iloc[:,-1].value_counts())"
   ]
  },
  {
   "cell_type": "code",
   "execution_count": 5,
   "id": "hi_-rTvi_SXx",
   "metadata": {
    "id": "hi_-rTvi_SXx",
    "outputId": "f72ccd1e-2132-4f03-9b76-57f78a0f1b10"
   },
   "outputs": [
    {
     "data": {
      "text/html": [
       "<div>\n",
       "<style scoped>\n",
       "    .dataframe tbody tr th:only-of-type {\n",
       "        vertical-align: middle;\n",
       "    }\n",
       "\n",
       "    .dataframe tbody tr th {\n",
       "        vertical-align: top;\n",
       "    }\n",
       "\n",
       "    .dataframe thead th {\n",
       "        text-align: right;\n",
       "    }\n",
       "</style>\n",
       "<table border=\"1\" class=\"dataframe\">\n",
       "  <thead>\n",
       "    <tr style=\"text-align: right;\">\n",
       "      <th></th>\n",
       "      <th>text</th>\n",
       "      <th>label</th>\n",
       "      <th>class_test</th>\n",
       "    </tr>\n",
       "  </thead>\n",
       "  <tbody>\n",
       "    <tr>\n",
       "      <th>29196</th>\n",
       "      <td>he should have fucked her in the ass</td>\n",
       "      <td>1</td>\n",
       "      <td>0</td>\n",
       "    </tr>\n",
       "    <tr>\n",
       "      <th>64149</th>\n",
       "      <td>bitches jus b so mad at the wrong ppl i dont g...</td>\n",
       "      <td>1</td>\n",
       "      <td>1</td>\n",
       "    </tr>\n",
       "    <tr>\n",
       "      <th>1107</th>\n",
       "      <td>Nor I you youre putrid Youre another white kno...</td>\n",
       "      <td>1</td>\n",
       "      <td>1</td>\n",
       "    </tr>\n",
       "    <tr>\n",
       "      <th>23403</th>\n",
       "      <td>Go back to your country bitch</td>\n",
       "      <td>1</td>\n",
       "      <td>0</td>\n",
       "    </tr>\n",
       "    <tr>\n",
       "      <th>9262</th>\n",
       "      <td>@JohnCornyn @Debbie22210 The only humane thing...</td>\n",
       "      <td>1</td>\n",
       "      <td>0</td>\n",
       "    </tr>\n",
       "    <tr>\n",
       "      <th>...</th>\n",
       "      <td>...</td>\n",
       "      <td>...</td>\n",
       "      <td>...</td>\n",
       "    </tr>\n",
       "    <tr>\n",
       "      <th>61275</th>\n",
       "      <td>@purrfect1509 White people who hate white peop...</td>\n",
       "      <td>0</td>\n",
       "      <td>0</td>\n",
       "    </tr>\n",
       "    <tr>\n",
       "      <th>35406</th>\n",
       "      <td>I consented to the dick not the sperm</td>\n",
       "      <td>0</td>\n",
       "      <td>0</td>\n",
       "    </tr>\n",
       "    <tr>\n",
       "      <th>42863</th>\n",
       "      <td>STRAIGHT PEOPLE ARE CRAZY</td>\n",
       "      <td>0</td>\n",
       "      <td>0</td>\n",
       "    </tr>\n",
       "    <tr>\n",
       "      <th>39148</th>\n",
       "      <td>Antifa member firebombs ICE facility and is ar...</td>\n",
       "      <td>0</td>\n",
       "      <td>0</td>\n",
       "    </tr>\n",
       "    <tr>\n",
       "      <th>17488</th>\n",
       "      <td>Now there is another wackadoo called Shelle th...</td>\n",
       "      <td>0</td>\n",
       "      <td>0</td>\n",
       "    </tr>\n",
       "  </tbody>\n",
       "</table>\n",
       "<p>35565 rows × 3 columns</p>\n",
       "</div>"
      ],
      "text/plain": [
       "                                                    text  label  class_test\n",
       "29196               he should have fucked her in the ass      1           0\n",
       "64149  bitches jus b so mad at the wrong ppl i dont g...      1           1\n",
       "1107   Nor I you youre putrid Youre another white kno...      1           1\n",
       "23403                      Go back to your country bitch      1           0\n",
       "9262   @JohnCornyn @Debbie22210 The only humane thing...      1           0\n",
       "...                                                  ...    ...         ...\n",
       "61275  @purrfect1509 White people who hate white peop...      0           0\n",
       "35406              I consented to the dick not the sperm      0           0\n",
       "42863                          STRAIGHT PEOPLE ARE CRAZY      0           0\n",
       "39148  Antifa member firebombs ICE facility and is ar...      0           0\n",
       "17488  Now there is another wackadoo called Shelle th...      0           0\n",
       "\n",
       "[35565 rows x 3 columns]"
      ]
     },
     "execution_count": 5,
     "metadata": {},
     "output_type": "execute_result"
    }
   ],
   "source": [
    "mod_data"
   ]
  },
  {
   "cell_type": "code",
   "execution_count": 6,
   "id": "ezomXD7p_SXx",
   "metadata": {
    "id": "ezomXD7p_SXx"
   },
   "outputs": [],
   "source": [
    "x_data = mod_data['text'].values # just the X \n",
    "y_labeled = mod_data.iloc[:,-1].values # new class (just the P & U)\n",
    "y_positive = mod_data.iloc[:,-2].values # original class"
   ]
  },
  {
   "cell_type": "code",
   "execution_count": 7,
   "id": "aQowVr1N_SXy",
   "metadata": {
    "id": "aQowVr1N_SXy",
    "outputId": "2b99ff45-66cd-4813-f905-404980045932"
   },
   "outputs": [
    {
     "data": {
      "text/plain": [
       "array(['he should have fucked her in the ass',\n",
       "       'bitches jus b so mad at the wrong ppl i dont get it ',\n",
       "       'Nor I you youre putrid Youre another white knob thinking youre virtuous while you shame people from different cultures Youre in luck Reddit loves that builds up the ol ego  if theres one thing Reddits taught me its the intolerance of the supposed tolerant Youre not new youre commonplace Dealt with racist shits like you since birth Im all gd',\n",
       "       ..., 'STRAIGHT PEOPLE ARE CRAZY',\n",
       "       'Antifa member firebombs ICE facility and is armed with an AR15 Wrote a manifesto using Cowfarts Cortez idea that detention facilities are CONCENTRATION CAMPS Where is the Left on condemning him CUE CRICKETS',\n",
       "       'Now there is another wackadoo called Shelle that she has shifted her allegiance to While not nice at least you can through some churchy sounding words point your mother to repentance for putting some whackadoodle over the actual leadership of the church'],\n",
       "      dtype=object)"
      ]
     },
     "execution_count": 7,
     "metadata": {},
     "output_type": "execute_result"
    }
   ],
   "source": [
    "x_data"
   ]
  },
  {
   "cell_type": "code",
   "execution_count": 8,
   "id": "NrA0HmZg_SXy",
   "metadata": {
    "id": "NrA0HmZg_SXy"
   },
   "outputs": [],
   "source": [
    "import tensorflow as tf\n",
    "import tensorflow_hub as hub\n",
    "import tensorflow_text as text\n",
    "from sklearn.model_selection import train_test_split\n",
    "from tensorflow.keras.callbacks import EarlyStopping\n",
    "from sklearn.metrics import classification_report\n",
    "from tensorflow.keras.optimizers import Adam\n",
    "import pandas as pd"
   ]
  },
  {
   "cell_type": "code",
   "execution_count": 9,
   "id": "mIp2IgFJ_SXz",
   "metadata": {
    "id": "mIp2IgFJ_SXz"
   },
   "outputs": [],
   "source": [
    "tfhub_handle_encoder = 'https://tfhub.dev/tensorflow/small_bert/bert_en_uncased_L-4_H-768_A-12/1'\n",
    "tfhub_handle_preprocess = 'https://tfhub.dev/tensorflow/bert_en_uncased_preprocess/3'"
   ]
  },
  {
   "cell_type": "code",
   "execution_count": 10,
   "id": "LCdC39Hm_SX0",
   "metadata": {
    "id": "LCdC39Hm_SX0"
   },
   "outputs": [],
   "source": [
    "# bert_model = hub.KerasLayer(tfhub_handle_encoder)"
   ]
  },
  {
   "cell_type": "code",
   "execution_count": 11,
   "id": "dySwCh5j_SX0",
   "metadata": {
    "id": "dySwCh5j_SX0"
   },
   "outputs": [],
   "source": [
    "# bert_preprocess_model = hub.KerasLayer(tfhub_handle_preprocess)"
   ]
  },
  {
   "cell_type": "code",
   "execution_count": 12,
   "id": "y7WbWAhE_SX0",
   "metadata": {
    "id": "y7WbWAhE_SX0"
   },
   "outputs": [],
   "source": [
    "text_input = tf.keras.layers.Input(shape=(), dtype=tf.string, name='text')\n",
    "preprocessing_layer = hub.KerasLayer(tfhub_handle_preprocess, name='preprocessing')\n",
    "encoder_inputs = preprocessing_layer(text_input)\n",
    "encoder = hub.KerasLayer(tfhub_handle_encoder, trainable=True, name='BERT_encoder')\n",
    "outputs = encoder(encoder_inputs)\n",
    "net = outputs['pooled_output']\n",
    "net = tf.keras.layers.Dropout(0.2)(net)\n",
    "net = tf.keras.layers.Dense(1, activation='sigmoid', name='classifier')(net)\n",
    "\n",
    "model = tf.keras.Model(text_input, net)"
   ]
  },
  {
   "cell_type": "code",
   "execution_count": 13,
   "id": "ipei6FEk_SX1",
   "metadata": {
    "id": "ipei6FEk_SX1"
   },
   "outputs": [],
   "source": [
    "opt = Adam(learning_rate = 3e-5)\n",
    "model.compile(loss='binary_crossentropy', optimizer=opt, metrics=['accuracy'])"
   ]
  },
  {
   "cell_type": "code",
   "execution_count": 14,
   "id": "N5x1GZav_SX1",
   "metadata": {
    "id": "N5x1GZav_SX1",
    "outputId": "55c4e8ec-a7e4-4752-9257-441f159feedb"
   },
   "outputs": [
    {
     "name": "stdout",
     "output_type": "stream",
     "text": [
      "[    1     2    14 ... 12206 12218 12219]\n"
     ]
    }
   ],
   "source": [
    "# find the indices of the positive/labeled elements\n",
    "\n",
    "positives = np.where(y_labeled == 1.)[0] \n",
    "print(positives)"
   ]
  },
  {
   "cell_type": "code",
   "execution_count": 15,
   "id": "UGf3sSau_SX2",
   "metadata": {
    "id": "UGf3sSau_SX2",
    "outputId": "65d9bebb-75f4-4cd4-87d7-75aed2c30710"
   },
   "outputs": [
    {
     "data": {
      "text/plain": [
       "array(['So wise Go take a dick in your ass Fucking pedophile lover',\n",
       "       'WITH NO FEMINISM OR LGBTHSGHDJDGSVXHDBULLSHIT THIS IS GOING TO BE A SUCCESS',\n",
       "       'beta pussy you say Hmmm lets rearrange those letters Beat Pussy sounds fun but also violent Bate Pussy sounds like a sting operation Be at pussy sounds like a date  or my personal favorite I Bet a pussy like you only talks shit online',\n",
       "       'Where did all of mankind invade gayboy oure just another of the gay assed demoncrapers who hate your own race arent you turdboy Now dont bother me any further turdboy Im not a gay assed demoncraper Im sure you have a goyfriendhusband who is interested in what the hell your gay ass had to say',\n",
       "       'Ofc you want et fucked Chad you are a dumb slut Nothing but some holes'],\n",
       "      dtype=object)"
      ]
     },
     "execution_count": 15,
     "metadata": {},
     "output_type": "execute_result"
    }
   ],
   "source": [
    "# hold_out_size = the *number* of positives/labeled samples \n",
    "# that we will use later to estimate P(s=1|y=1)\n",
    "hold_out_ratio = 0.25\n",
    "hold_out_size = int(np.ceil(len(positives) * hold_out_ratio))\n",
    "np.random.shuffle(positives)\n",
    "\n",
    "hold_out = positives[:hold_out_size] \n",
    "X_hold_out = x_data[hold_out]\n",
    "X_hold_out[:5]"
   ]
  },
  {
   "cell_type": "code",
   "execution_count": 16,
   "id": "k1uumK-n_SX2",
   "metadata": {
    "id": "k1uumK-n_SX2"
   },
   "outputs": [],
   "source": [
    "# the actual positive *elements* that we will keep aside\n",
    " \n",
    "# remove the held out elements from X and y\n",
    "X = np.delete(x_data, hold_out,0) \n",
    "y = np.delete(y_labeled, hold_out)"
   ]
  },
  {
   "cell_type": "code",
   "execution_count": 17,
   "id": "_SqlerSK_SX2",
   "metadata": {
    "id": "_SqlerSK_SX2",
    "outputId": "1de1513f-ce22-4c2c-c5f7-0f840254469d"
   },
   "outputs": [
    {
     "data": {
      "text/plain": [
       "array([0, 1, 1, 0, 0], dtype=int64)"
      ]
     },
     "execution_count": 17,
     "metadata": {},
     "output_type": "execute_result"
    }
   ],
   "source": [
    "y[:5]"
   ]
  },
  {
   "cell_type": "code",
   "execution_count": 18,
   "id": "wEhhw4Rw_SX3",
   "metadata": {
    "id": "wEhhw4Rw_SX3"
   },
   "outputs": [
    {
     "name": "stdout",
     "output_type": "stream",
     "text": [
      "['It pretty much is something like the black man recorded the mean white man saying he needs to leave the building that the white man lives in or at least call whoever invited the black man to the building to come show that he is allowed to be in the building what a mean white man The black man told the white man that hes gonna be on tv now'\n",
      " 'Uhlbelk i agree but it wouldnt alter what i watch on youtube and TV i can empathise with the LGBT community but when i ask questions i dont get answers'\n",
      " 'Real Americans indians  go back to Europe  White European colonialists  ah'\n",
      " 'Lots of love from the Slavs we love you man'\n",
      " 'Real sluts are so horny they open their legs and let their whore pussy be fucked by any cock no matter who it is attached to RT if youre a real slut like me and Natalie Comment to tell me how you want to use my fucktoy cumslut holes URL']\n",
      "Epoch 1/2\n"
     ]
    },
    {
     "name": "stderr",
     "output_type": "stream",
     "text": [
      "C:\\Users\\Dhwanit\\anaconda3\\envs\\py3.7\\lib\\site-packages\\ipykernel_launcher.py:4: DeprecationWarning: `np.float` is a deprecated alias for the builtin `float`. To silence this warning, use `float` by itself. Doing this will not modify any behavior and is safe. If you specifically wanted the numpy scalar type, use `np.float64` here.\n",
      "Deprecated in NumPy 1.20; for more details and guidance: https://numpy.org/devdocs/release/1.20.0-notes.html#deprecations\n",
      "  after removing the cwd from sys.path.\n",
      "C:\\Users\\Dhwanit\\anaconda3\\envs\\py3.7\\lib\\site-packages\\ipykernel_launcher.py:5: DeprecationWarning: `np.float` is a deprecated alias for the builtin `float`. To silence this warning, use `float` by itself. Doing this will not modify any behavior and is safe. If you specifically wanted the numpy scalar type, use `np.float64` here.\n",
      "Deprecated in NumPy 1.20; for more details and guidance: https://numpy.org/devdocs/release/1.20.0-notes.html#deprecations\n",
      "  \"\"\"\n"
     ]
    },
    {
     "name": "stdout",
     "output_type": "stream",
     "text": [
      "878/878 [==============================] - 360s 403ms/step - loss: 0.1638 - accuracy: 0.9601 - val_loss: 0.1545 - val_accuracy: 0.9608\n",
      "Epoch 2/2\n",
      "878/878 [==============================] - 380s 433ms/step - loss: 0.1467 - accuracy: 0.9607 - val_loss: 0.1606 - val_accuracy: 0.9608\n"
     ]
    },
    {
     "data": {
      "text/plain": [
       "<keras.callbacks.History at 0x1c2fbf8ff88>"
      ]
     },
     "execution_count": 18,
     "metadata": {},
     "output_type": "execute_result"
    }
   ],
   "source": [
    "X_train,X_val, y_train,y_val = train_test_split(X,y,test_size= 0.2, stratify=y)\n",
    "early_stopping = EarlyStopping(monitor = 'val_loss', patience = 4,restore_best_weights =True)\n",
    "print(np.asarray(X_train)[:5])\n",
    "model.fit(np.asarray(list(X_train)).astype('str'),np.array(list(y_train),dtype = np.float),\n",
    "          validation_data =( np.array(list(X_val)),np.asarray(list(y_val), dtype = np.float) ) ,epochs = 2, batch_size =  32,callbacks = [early_stopping])\n",
    "#         # We then use the estimator for prediction of the positive held-out set \n",
    "# in order to estimate P(s=1|y=1)"
   ]
  },
  {
   "cell_type": "code",
   "execution_count": 19,
   "id": "BsLqlVY0_SX3",
   "metadata": {
    "id": "BsLqlVY0_SX3",
    "outputId": "15a3a5be-7400-49a0-e566-77ca678f51e8"
   },
   "outputs": [
    {
     "data": {
      "text/plain": [
       "array([[0.07808495],\n",
       "       [0.00132191],\n",
       "       [0.05685413],\n",
       "       [0.08507171],\n",
       "       [0.1174004 ],\n",
       "       [0.02930635],\n",
       "       [0.00889529],\n",
       "       [0.08850829],\n",
       "       [0.01437239],\n",
       "       [0.07607862],\n",
       "       [0.04724938],\n",
       "       [0.04256497],\n",
       "       [0.07636018],\n",
       "       [0.05190324],\n",
       "       [0.11131077],\n",
       "       [0.09364726],\n",
       "       [0.01391776],\n",
       "       [0.12482388],\n",
       "       [0.08137543],\n",
       "       [0.06416839],\n",
       "       [0.16097717],\n",
       "       [0.03865369],\n",
       "       [0.19110367],\n",
       "       [0.03574643],\n",
       "       [0.02288342],\n",
       "       [0.10672419],\n",
       "       [0.10937218],\n",
       "       [0.17214721],\n",
       "       [0.0346283 ],\n",
       "       [0.03085391],\n",
       "       [0.02612351],\n",
       "       [0.00274899],\n",
       "       [0.07018656],\n",
       "       [0.14685676],\n",
       "       [0.03645108],\n",
       "       [0.08759806],\n",
       "       [0.15316218],\n",
       "       [0.15673263],\n",
       "       [0.0935421 ],\n",
       "       [0.18329747],\n",
       "       [0.01240223],\n",
       "       [0.09006228],\n",
       "       [0.19047038],\n",
       "       [0.06330332],\n",
       "       [0.13662097],\n",
       "       [0.06052304],\n",
       "       [0.07089081],\n",
       "       [0.01165163],\n",
       "       [0.16114734],\n",
       "       [0.0229057 ],\n",
       "       [0.1067557 ],\n",
       "       [0.16546498],\n",
       "       [0.05652442],\n",
       "       [0.09841408],\n",
       "       [0.14300038],\n",
       "       [0.09649143],\n",
       "       [0.11252329],\n",
       "       [0.16267629],\n",
       "       [0.1354364 ],\n",
       "       [0.06318513],\n",
       "       [0.10627939],\n",
       "       [0.00797422],\n",
       "       [0.07547044],\n",
       "       [0.19005558],\n",
       "       [0.13619746],\n",
       "       [0.07171534],\n",
       "       [0.1100025 ],\n",
       "       [0.11720347],\n",
       "       [0.07060625],\n",
       "       [0.0130889 ],\n",
       "       [0.05464963],\n",
       "       [0.05601293],\n",
       "       [0.1291475 ],\n",
       "       [0.13716704],\n",
       "       [0.06632406],\n",
       "       [0.11038429],\n",
       "       [0.12970893],\n",
       "       [0.11618331],\n",
       "       [0.12047023],\n",
       "       [0.02768224],\n",
       "       [0.0676213 ],\n",
       "       [0.00111659],\n",
       "       [0.04577642],\n",
       "       [0.21527308],\n",
       "       [0.08297144],\n",
       "       [0.19671787],\n",
       "       [0.07634836],\n",
       "       [0.06992122],\n",
       "       [0.02901552],\n",
       "       [0.15065818],\n",
       "       [0.15595843],\n",
       "       [0.02853013],\n",
       "       [0.10622111],\n",
       "       [0.1292567 ],\n",
       "       [0.1718358 ],\n",
       "       [0.05456447],\n",
       "       [0.16103406],\n",
       "       [0.12576066],\n",
       "       [0.17296664],\n",
       "       [0.10828761],\n",
       "       [0.13914381],\n",
       "       [0.19143182],\n",
       "       [0.0963278 ],\n",
       "       [0.11516756],\n",
       "       [0.10760424],\n",
       "       [0.08490992],\n",
       "       [0.0684732 ],\n",
       "       [0.05734891],\n",
       "       [0.04603772],\n",
       "       [0.12592101],\n",
       "       [0.13016431],\n",
       "       [0.06864616],\n",
       "       [0.00444369],\n",
       "       [0.11284614],\n",
       "       [0.02739699],\n",
       "       [0.09775587],\n",
       "       [0.07743769],\n",
       "       [0.08471701],\n",
       "       [0.08179167],\n",
       "       [0.09570665],\n",
       "       [0.1111367 ],\n",
       "       [0.04142222],\n",
       "       [0.0657153 ],\n",
       "       [0.05946111],\n",
       "       [0.11626174],\n",
       "       [0.19328924],\n",
       "       [0.0044902 ],\n",
       "       [0.10971389],\n",
       "       [0.07920539],\n",
       "       [0.10829049],\n",
       "       [0.10267048],\n",
       "       [0.07546739],\n",
       "       [0.13847858],\n",
       "       [0.07646938],\n",
       "       [0.02678   ],\n",
       "       [0.17209624],\n",
       "       [0.01135939],\n",
       "       [0.09401286],\n",
       "       [0.10732801],\n",
       "       [0.13271372],\n",
       "       [0.05118499],\n",
       "       [0.05133049],\n",
       "       [0.03254137],\n",
       "       [0.15044446],\n",
       "       [0.10756139],\n",
       "       [0.0317187 ],\n",
       "       [0.03416561],\n",
       "       [0.07901679],\n",
       "       [0.05089409],\n",
       "       [0.13875876],\n",
       "       [0.13354798],\n",
       "       [0.08068001],\n",
       "       [0.1852835 ],\n",
       "       [0.14287308],\n",
       "       [0.14516526],\n",
       "       [0.1104956 ],\n",
       "       [0.13089472],\n",
       "       [0.1144711 ],\n",
       "       [0.01689342],\n",
       "       [0.05204583],\n",
       "       [0.06349561],\n",
       "       [0.07719884],\n",
       "       [0.06435319],\n",
       "       [0.05584336],\n",
       "       [0.05185577],\n",
       "       [0.13162899],\n",
       "       [0.12635453],\n",
       "       [0.00977346],\n",
       "       [0.01643131],\n",
       "       [0.02197206],\n",
       "       [0.03833967],\n",
       "       [0.0929289 ],\n",
       "       [0.09325124],\n",
       "       [0.13234584],\n",
       "       [0.01250405],\n",
       "       [0.07196163],\n",
       "       [0.18679035],\n",
       "       [0.19385597],\n",
       "       [0.05168355],\n",
       "       [0.08399052],\n",
       "       [0.06424057],\n",
       "       [0.02519477],\n",
       "       [0.10979477],\n",
       "       [0.12898085],\n",
       "       [0.12540333],\n",
       "       [0.01032026],\n",
       "       [0.13475552],\n",
       "       [0.04847274],\n",
       "       [0.16757032],\n",
       "       [0.04094885],\n",
       "       [0.18915734],\n",
       "       [0.10028829],\n",
       "       [0.07632425],\n",
       "       [0.00149387],\n",
       "       [0.16114452],\n",
       "       [0.14120007],\n",
       "       [0.13852884],\n",
       "       [0.10871099],\n",
       "       [0.05280453],\n",
       "       [0.07953723],\n",
       "       [0.00131376],\n",
       "       [0.06477749],\n",
       "       [0.13965444],\n",
       "       [0.0782108 ],\n",
       "       [0.13562597],\n",
       "       [0.08792119],\n",
       "       [0.06894222],\n",
       "       [0.08700246],\n",
       "       [0.21842405],\n",
       "       [0.07420919],\n",
       "       [0.05658659],\n",
       "       [0.09232926],\n",
       "       [0.08658491],\n",
       "       [0.02530294],\n",
       "       [0.10946048],\n",
       "       [0.10261175],\n",
       "       [0.1156179 ],\n",
       "       [0.03421121],\n",
       "       [0.11225891],\n",
       "       [0.15282759],\n",
       "       [0.08615873],\n",
       "       [0.24277325],\n",
       "       [0.07739411],\n",
       "       [0.09624521],\n",
       "       [0.0385088 ],\n",
       "       [0.09462669],\n",
       "       [0.09918436],\n",
       "       [0.01505514],\n",
       "       [0.05583845],\n",
       "       [0.2339746 ],\n",
       "       [0.08243724],\n",
       "       [0.2620007 ],\n",
       "       [0.09331635],\n",
       "       [0.12058444],\n",
       "       [0.04955152],\n",
       "       [0.08872534],\n",
       "       [0.12973163],\n",
       "       [0.17819484],\n",
       "       [0.14695485],\n",
       "       [0.01740426],\n",
       "       [0.13370728],\n",
       "       [0.12967454],\n",
       "       [0.0953347 ],\n",
       "       [0.03612417],\n",
       "       [0.00132034],\n",
       "       [0.0941694 ],\n",
       "       [0.1482861 ],\n",
       "       [0.05474305],\n",
       "       [0.07379775],\n",
       "       [0.01904928],\n",
       "       [0.02370397],\n",
       "       [0.11520538],\n",
       "       [0.07231672],\n",
       "       [0.03523634],\n",
       "       [0.03008157],\n",
       "       [0.08558189],\n",
       "       [0.1009126 ],\n",
       "       [0.07488319],\n",
       "       [0.07140896],\n",
       "       [0.1181681 ],\n",
       "       [0.03299072],\n",
       "       [0.09406943],\n",
       "       [0.08927895],\n",
       "       [0.14071079],\n",
       "       [0.08556735],\n",
       "       [0.10429426],\n",
       "       [0.00585819],\n",
       "       [0.17137349],\n",
       "       [0.01329951],\n",
       "       [0.02889355],\n",
       "       [0.07292232],\n",
       "       [0.14533865],\n",
       "       [0.09670992],\n",
       "       [0.10795955],\n",
       "       [0.06736015],\n",
       "       [0.02742012],\n",
       "       [0.06633513],\n",
       "       [0.12125731],\n",
       "       [0.04044211],\n",
       "       [0.11731324],\n",
       "       [0.02122719],\n",
       "       [0.08748792],\n",
       "       [0.23374532],\n",
       "       [0.08024999],\n",
       "       [0.12690605],\n",
       "       [0.04542813],\n",
       "       [0.04140045],\n",
       "       [0.07840218],\n",
       "       [0.07176715],\n",
       "       [0.07961246],\n",
       "       [0.03984213],\n",
       "       [0.06813954],\n",
       "       [0.00925097],\n",
       "       [0.09717468],\n",
       "       [0.06416839],\n",
       "       [0.12344293],\n",
       "       [0.04540402],\n",
       "       [0.0856928 ],\n",
       "       [0.17857242],\n",
       "       [0.13294198],\n",
       "       [0.089986  ],\n",
       "       [0.11994544],\n",
       "       [0.00690294],\n",
       "       [0.1519633 ],\n",
       "       [0.00751556],\n",
       "       [0.15090074],\n",
       "       [0.11854059],\n",
       "       [0.06233508],\n",
       "       [0.11655822],\n",
       "       [0.00512723],\n",
       "       [0.11216866],\n",
       "       [0.15140711],\n",
       "       [0.06925676],\n",
       "       [0.2036629 ],\n",
       "       [0.00535158],\n",
       "       [0.11429922],\n",
       "       [0.12368454],\n",
       "       [0.06101753],\n",
       "       [0.10785602],\n",
       "       [0.20696458],\n",
       "       [0.09808449],\n",
       "       [0.03491531],\n",
       "       [0.12083604],\n",
       "       [0.15898773],\n",
       "       [0.16726583],\n",
       "       [0.14340666],\n",
       "       [0.02566572],\n",
       "       [0.03265053],\n",
       "       [0.0855939 ],\n",
       "       [0.10812052],\n",
       "       [0.08537881],\n",
       "       [0.08801428],\n",
       "       [0.12940916],\n",
       "       [0.08702919],\n",
       "       [0.12749965],\n",
       "       [0.10250425],\n",
       "       [0.01274171],\n",
       "       [0.01950054],\n",
       "       [0.07597241],\n",
       "       [0.14162502],\n",
       "       [0.06449254],\n",
       "       [0.05277942],\n",
       "       [0.03871986],\n",
       "       [0.12937953],\n",
       "       [0.03336295],\n",
       "       [0.06360465],\n",
       "       [0.16892771],\n",
       "       [0.07749167],\n",
       "       [0.08090404],\n",
       "       [0.1201352 ],\n",
       "       [0.0601232 ],\n",
       "       [0.08618989],\n",
       "       [0.12457524],\n",
       "       [0.08821495],\n",
       "       [0.00375556],\n",
       "       [0.22221634],\n",
       "       [0.07098945],\n",
       "       [0.04386203],\n",
       "       [0.07779047],\n",
       "       [0.05103251],\n",
       "       [0.12667693],\n",
       "       [0.01586937],\n",
       "       [0.04794809],\n",
       "       [0.11263251],\n",
       "       [0.11728878],\n",
       "       [0.19371502],\n",
       "       [0.11729542],\n",
       "       [0.16330746],\n",
       "       [0.12639217],\n",
       "       [0.11013601],\n",
       "       [0.16215558],\n",
       "       [0.09961465],\n",
       "       [0.01115298],\n",
       "       [0.09110775],\n",
       "       [0.0818611 ],\n",
       "       [0.00273559],\n",
       "       [0.15200534],\n",
       "       [0.13963664],\n",
       "       [0.11515241],\n",
       "       [0.10967323],\n",
       "       [0.04710557],\n",
       "       [0.00707815],\n",
       "       [0.02726423],\n",
       "       [0.00639019],\n",
       "       [0.11161586],\n",
       "       [0.05246504],\n",
       "       [0.16405343],\n",
       "       [0.00847378],\n",
       "       [0.18744777],\n",
       "       [0.14275756],\n",
       "       [0.06645717],\n",
       "       [0.04304226],\n",
       "       [0.11135804],\n",
       "       [0.04530917],\n",
       "       [0.11062318],\n",
       "       [0.17604457],\n",
       "       [0.13706599],\n",
       "       [0.06004459],\n",
       "       [0.20439065],\n",
       "       [0.02493776],\n",
       "       [0.05016579],\n",
       "       [0.08872357],\n",
       "       [0.16681604],\n",
       "       [0.14482853],\n",
       "       [0.10990506],\n",
       "       [0.09218636],\n",
       "       [0.08693454],\n",
       "       [0.01475433],\n",
       "       [0.03313733],\n",
       "       [0.05378834],\n",
       "       [0.16631253],\n",
       "       [0.09789034],\n",
       "       [0.04858724],\n",
       "       [0.09826106],\n",
       "       [0.06020384],\n",
       "       [0.14667636],\n",
       "       [0.12098603],\n",
       "       [0.12960808],\n",
       "       [0.02876957],\n",
       "       [0.13407226],\n",
       "       [0.05231277],\n",
       "       [0.14643174],\n",
       "       [0.15989017],\n",
       "       [0.08357436],\n",
       "       [0.0180968 ],\n",
       "       [0.00308367],\n",
       "       [0.09007052],\n",
       "       [0.0951916 ],\n",
       "       [0.08295576],\n",
       "       [0.24474579],\n",
       "       [0.09018272],\n",
       "       [0.09957566],\n",
       "       [0.0613771 ],\n",
       "       [0.07656126],\n",
       "       [0.05851689],\n",
       "       [0.11913568],\n",
       "       [0.18854713],\n",
       "       [0.10913634],\n",
       "       [0.13149539],\n",
       "       [0.03657283],\n",
       "       [0.15717182],\n",
       "       [0.09574775],\n",
       "       [0.07057329],\n",
       "       [0.14203125],\n",
       "       [0.13100615],\n",
       "       [0.09698803],\n",
       "       [0.11050189],\n",
       "       [0.1386219 ],\n",
       "       [0.12490205],\n",
       "       [0.10299595],\n",
       "       [0.04400667],\n",
       "       [0.10273291],\n",
       "       [0.00512386],\n",
       "       [0.11020601],\n",
       "       [0.00646812],\n",
       "       [0.12985598],\n",
       "       [0.0264129 ],\n",
       "       [0.09444828],\n",
       "       [0.00249044]], dtype=float32)"
      ]
     },
     "execution_count": 19,
     "metadata": {},
     "output_type": "execute_result"
    }
   ],
   "source": [
    "hold_out_predictions = model.predict(list(X_hold_out))\n",
    "hold_out_predictions"
   ]
  },
  {
   "cell_type": "code",
   "execution_count": 20,
   "id": "LN_sfcPd_SX3",
   "metadata": {
    "id": "LN_sfcPd_SX3"
   },
   "outputs": [],
   "source": [
    "#take the probability that it is 1\n",
    "hold_out_predictions = hold_out_predictions[:,0]\n",
    "# save the mean probability \n",
    "c = np.mean(hold_out_predictions)\n",
    "\n",
    "\n",
    "def predict_PU_prob(X, estimator, prob_s1y1):\n",
    "    predicted_s = estimator.predict_proba(X)\n",
    "    predicted_s = predicted_s[:,1]\n",
    "    return predicted_s / prob_s1y1"
   ]
  },
  {
   "cell_type": "code",
   "execution_count": 21,
   "id": "4x-l0Gk1_SX4",
   "metadata": {
    "id": "4x-l0Gk1_SX4",
    "outputId": "92844a8b-951c-450c-d8f9-24751ba38147"
   },
   "outputs": [
    {
     "data": {
      "text/plain": [
       "0.0910217"
      ]
     },
     "execution_count": 21,
     "metadata": {},
     "output_type": "execute_result"
    }
   ],
   "source": [
    "c"
   ]
  },
  {
   "cell_type": "code",
   "execution_count": 22,
   "id": "qjwqI3sY_SX4",
   "metadata": {
    "id": "qjwqI3sY_SX4",
    "outputId": "4bd8a27f-08fb-4112-814f-7f5fdaef0c49"
   },
   "outputs": [
    {
     "data": {
      "text/html": [
       "<div>\n",
       "<style scoped>\n",
       "    .dataframe tbody tr th:only-of-type {\n",
       "        vertical-align: middle;\n",
       "    }\n",
       "\n",
       "    .dataframe tbody tr th {\n",
       "        vertical-align: top;\n",
       "    }\n",
       "\n",
       "    .dataframe thead th {\n",
       "        text-align: right;\n",
       "    }\n",
       "</style>\n",
       "<table border=\"1\" class=\"dataframe\">\n",
       "  <thead>\n",
       "    <tr style=\"text-align: right;\">\n",
       "      <th></th>\n",
       "      <th>text</th>\n",
       "      <th>label</th>\n",
       "      <th>class_test</th>\n",
       "    </tr>\n",
       "  </thead>\n",
       "  <tbody>\n",
       "    <tr>\n",
       "      <th>29196</th>\n",
       "      <td>he should have fucked her in the ass</td>\n",
       "      <td>1</td>\n",
       "      <td>0</td>\n",
       "    </tr>\n",
       "    <tr>\n",
       "      <th>64149</th>\n",
       "      <td>bitches jus b so mad at the wrong ppl i dont g...</td>\n",
       "      <td>1</td>\n",
       "      <td>1</td>\n",
       "    </tr>\n",
       "    <tr>\n",
       "      <th>1107</th>\n",
       "      <td>Nor I you youre putrid Youre another white kno...</td>\n",
       "      <td>1</td>\n",
       "      <td>1</td>\n",
       "    </tr>\n",
       "    <tr>\n",
       "      <th>23403</th>\n",
       "      <td>Go back to your country bitch</td>\n",
       "      <td>1</td>\n",
       "      <td>0</td>\n",
       "    </tr>\n",
       "    <tr>\n",
       "      <th>9262</th>\n",
       "      <td>@JohnCornyn @Debbie22210 The only humane thing...</td>\n",
       "      <td>1</td>\n",
       "      <td>0</td>\n",
       "    </tr>\n",
       "    <tr>\n",
       "      <th>...</th>\n",
       "      <td>...</td>\n",
       "      <td>...</td>\n",
       "      <td>...</td>\n",
       "    </tr>\n",
       "    <tr>\n",
       "      <th>61275</th>\n",
       "      <td>@purrfect1509 White people who hate white peop...</td>\n",
       "      <td>0</td>\n",
       "      <td>0</td>\n",
       "    </tr>\n",
       "    <tr>\n",
       "      <th>35406</th>\n",
       "      <td>I consented to the dick not the sperm</td>\n",
       "      <td>0</td>\n",
       "      <td>0</td>\n",
       "    </tr>\n",
       "    <tr>\n",
       "      <th>42863</th>\n",
       "      <td>STRAIGHT PEOPLE ARE CRAZY</td>\n",
       "      <td>0</td>\n",
       "      <td>0</td>\n",
       "    </tr>\n",
       "    <tr>\n",
       "      <th>39148</th>\n",
       "      <td>Antifa member firebombs ICE facility and is ar...</td>\n",
       "      <td>0</td>\n",
       "      <td>0</td>\n",
       "    </tr>\n",
       "    <tr>\n",
       "      <th>17488</th>\n",
       "      <td>Now there is another wackadoo called Shelle th...</td>\n",
       "      <td>0</td>\n",
       "      <td>0</td>\n",
       "    </tr>\n",
       "  </tbody>\n",
       "</table>\n",
       "<p>35565 rows × 3 columns</p>\n",
       "</div>"
      ],
      "text/plain": [
       "                                                    text  label  class_test\n",
       "29196               he should have fucked her in the ass      1           0\n",
       "64149  bitches jus b so mad at the wrong ppl i dont g...      1           1\n",
       "1107   Nor I you youre putrid Youre another white kno...      1           1\n",
       "23403                      Go back to your country bitch      1           0\n",
       "9262   @JohnCornyn @Debbie22210 The only humane thing...      1           0\n",
       "...                                                  ...    ...         ...\n",
       "61275  @purrfect1509 White people who hate white peop...      0           0\n",
       "35406              I consented to the dick not the sperm      0           0\n",
       "42863                          STRAIGHT PEOPLE ARE CRAZY      0           0\n",
       "39148  Antifa member firebombs ICE facility and is ar...      0           0\n",
       "17488  Now there is another wackadoo called Shelle th...      0           0\n",
       "\n",
       "[35565 rows x 3 columns]"
      ]
     },
     "execution_count": 22,
     "metadata": {},
     "output_type": "execute_result"
    }
   ],
   "source": [
    "mod_data"
   ]
  },
  {
   "cell_type": "code",
   "execution_count": 23,
   "id": "nFH4R7aZ_SX4",
   "metadata": {
    "id": "nFH4R7aZ_SX4"
   },
   "outputs": [],
   "source": [
    "test_ds = pd.read_pickle('test_df.pickle')"
   ]
  },
  {
   "cell_type": "code",
   "execution_count": 24,
   "id": "sG6SZBq6_SX5",
   "metadata": {
    "id": "sG6SZBq6_SX5",
    "outputId": "eccb413c-f252-4545-ee2d-f6ca405a7f40"
   },
   "outputs": [
    {
     "data": {
      "text/plain": [
       "array([[0.03101655],\n",
       "       [0.07421876],\n",
       "       [0.12672599],\n",
       "       ...,\n",
       "       [0.00156461],\n",
       "       [0.16288432],\n",
       "       [0.00198944]], dtype=float32)"
      ]
     },
     "execution_count": 24,
     "metadata": {},
     "output_type": "execute_result"
    }
   ],
   "source": [
    "y_pred =  model.predict(list(test_ds['text'].values))\n",
    "y_pred"
   ]
  },
  {
   "cell_type": "code",
   "execution_count": 25,
   "id": "dmxPqjTD_SX5",
   "metadata": {
    "id": "dmxPqjTD_SX5"
   },
   "outputs": [],
   "source": [
    "y_pred = y_pred/c\n",
    "\n",
    "y_pred2 = [1 if i[0]>0.5 else 0 for i in y_pred]"
   ]
  },
  {
   "cell_type": "code",
   "execution_count": 26,
   "id": "Dbi4ukMY_SX5",
   "metadata": {
    "id": "Dbi4ukMY_SX5",
    "outputId": "218c59d6-55a7-4ccf-c486-98de907a3628",
    "scrolled": true
   },
   "outputs": [
    {
     "name": "stdout",
     "output_type": "stream",
     "text": [
      "              precision    recall  f1-score   support\n",
      "\n",
      "           0       0.75      0.71      0.73      2000\n",
      "           1       0.73      0.77      0.75      2000\n",
      "\n",
      "    accuracy                           0.74      4000\n",
      "   macro avg       0.74      0.74      0.74      4000\n",
      "weighted avg       0.74      0.74      0.74      4000\n",
      "\n"
     ]
    }
   ],
   "source": [
    "from sklearn.metrics import classification_report\n",
    "\n",
    "print(classification_report(test_ds['label'].values, y_pred2))"
   ]
  },
  {
   "cell_type": "code",
   "execution_count": 27,
   "id": "m2seynrQ_SX5",
   "metadata": {
    "id": "m2seynrQ_SX5",
    "outputId": "7db0fca7-05f9-46a4-8648-d46e1858c96a"
   },
   "outputs": [],
   "source": [
    "import os\n",
    " \n",
    "pid = os.getpid()\n",
    "#!kill -9 $pid"
   ]
  },
  {
   "cell_type": "code",
   "execution_count": null,
   "id": "lMRs3yzk_SX6",
   "metadata": {
    "id": "lMRs3yzk_SX6"
   },
   "outputs": [],
   "source": []
  }
 ],
 "metadata": {
  "colab": {
   "name": "BertModelTrain.ipynb",
   "provenance": []
  },
  "kernelspec": {
   "display_name": "Python 3 (ipykernel)",
   "language": "python",
   "name": "python3"
  },
  "language_info": {
   "codemirror_mode": {
    "name": "ipython",
    "version": 3
   },
   "file_extension": ".py",
   "mimetype": "text/x-python",
   "name": "python",
   "nbconvert_exporter": "python",
   "pygments_lexer": "ipython3",
   "version": "3.7.13"
  }
 },
 "nbformat": 4,
 "nbformat_minor": 5
}
